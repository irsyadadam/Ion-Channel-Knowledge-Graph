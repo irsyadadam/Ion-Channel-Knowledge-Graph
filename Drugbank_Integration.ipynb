{
 "cells": [
  {
   "cell_type": "markdown",
   "metadata": {},
   "source": [
    "## Instructions for Notebook\n",
    "### Drugbank Integration using Cardiac Drug List\n",
    "\n",
    "1: Put this in an empty directory\n",
    "\n",
    "2: Edit the username, password, and uri to match your local server\n",
    "\n",
    "3: Run all!\n"
   ]
  },
  {
   "cell_type": "code",
   "execution_count": 65,
   "metadata": {},
   "outputs": [],
   "source": [
    "from neo4j import GraphDatabase\n",
    "import pandas as pd\n",
    "from tqdm import tqdm\n",
    "from pathlib import Path\n",
    "import os.path\n",
    "import wget \n",
    "import json\n",
    "import requests"
   ]
  },
  {
   "cell_type": "code",
   "execution_count": 66,
   "metadata": {},
   "outputs": [
    {
     "name": "stdout",
     "output_type": "stream",
     "text": [
      "{'drugbank_id': 'DB00009', 'name': 'Alteplase', 'synonyms': ['Alteplasa', 'Alteplase (genetical recombination)', 'Alteplase, recombinant', 'Alteplase,recombinant', 'Plasminogen activator (human tissue-type protein moiety)', 'rt-PA', 't-PA', 't-plasminogen activator', 'Tissue plasminogen activator', 'Tissue plasminogen activator alteplase', 'Tissue plasminogen activator, recombinant', 'tPA'], 'descriptions': 'Human tissue plasminogen activator, purified, glycosylated, 527 residues purified from CHO cells', 'categories': ['Agents causing angioedema', 'Amino Acids, Peptides, and Proteins', 'Anticoagulants', 'Biological Factors', 'Blood and Blood Forming Organs', 'Blood Proteins', 'Cardiovascular Agents', 'Endopeptidases', 'Enzymes', 'Enzymes and Coenzymes', 'Fibrin Modulating Agents', 'Fibrinolytic Agents', 'Hematologic Agents', 'Hydrolases', 'Ophthalmologicals', 'Peptide Hydrolases', 'Plasminogen Activators', 'Proteins', 'Sensory Organs', 'Serine Endopeptidases', 'Serine Proteases', 'Tissue Plasminogen Activator', 'Tissue Plasminogen Activator, antagonists & inhibitors'], 'ATC code': ['B01AD02', 'S01XA13'], 'indication': 'For management of acute myocardial infarction, acute ischemic strok and for lysis of acute pulmonary emboli', 'carriers': [], 'targets': [{'name': 'Plasminogen', 'drugbank_id': 'BE0000211', 'actions': ['activator'], 'uniprot_id': 'P00747'}, {'name': 'Fibrinogen alpha chain', 'drugbank_id': 'BE0000538', 'actions': [], 'uniprot_id': 'P02671'}, {'name': 'Urokinase plasminogen activator surface receptor', 'drugbank_id': 'BE0000717', 'actions': [], 'uniprot_id': 'Q03405'}, {'name': 'Plasminogen activator inhibitor 1', 'drugbank_id': 'BE0000240', 'actions': [], 'uniprot_id': 'P05121'}], 'transporters': [], 'enzymes': [], 'pathways': [{'name': 'Alteplase Action Pathway', 'smpdb_id': 'SMP0000280', 'category': 'drug_action'}]}\n"
     ]
    }
   ],
   "source": [
    "#downloads the files in for the integration\n",
    "\n",
    "url = \"https://drive.google.com/uc?export=download&id=15esDF2aHkpJI7xvycUyhprpV41bNau3s\"\n",
    "\n",
    "if not Path(\"cvdrug_ent_drugpw.json\").exists():\n",
    "    file = wget.download(url)\n",
    "\n",
    "file = open(\"cvdrug_ent_drugpw.json\")\n",
    "file = json.load(file)\n",
    "print(file[0])"
   ]
  },
  {
   "cell_type": "code",
   "execution_count": 67,
   "metadata": {},
   "outputs": [],
   "source": [
    "#change username and password\n",
    "username = \"neo4j\"\n",
    "password = \"heart\"\n",
    "uri = \"bolt://localhost:7687\"\n",
    "\n",
    "driver = GraphDatabase.driver(uri, auth = (username, password))"
   ]
  },
  {
   "cell_type": "markdown",
   "metadata": {},
   "source": [
    "#### Deploying Drug Nodes:"
   ]
  },
  {
   "cell_type": "code",
   "execution_count": 68,
   "metadata": {},
   "outputs": [],
   "source": [
    "def create_drugs(tx, drug, name, descr, cat):\n",
    "    query = (\"\"\"\n",
    "            MERGE (d:Drug{id: $drug})\n",
    "            ON CREATE SET d.name = $name, d.description = $descr , d.cat = $cat\n",
    "            \"\"\")\n",
    "    return tx.run(query, drug = drug, name = name, descr = descr, cat = cat)"
   ]
  },
  {
   "cell_type": "code",
   "execution_count": 69,
   "metadata": {},
   "outputs": [
    {
     "name": "stderr",
     "output_type": "stream",
     "text": [
      "Deploying Drugs: 100%|██████████| 322/322 [00:00<00:00, 451.08it/s]"
     ]
    },
    {
     "name": "stdout",
     "output_type": "stream",
     "text": [
      "----Done----\n"
     ]
    },
    {
     "name": "stderr",
     "output_type": "stream",
     "text": [
      "\n"
     ]
    }
   ],
   "source": [
    "with driver.session() as session:\n",
    "    for datum in tqdm(file, desc = \"Deploying Drugs: \"):\n",
    "        drug = datum[\"drugbank_id\"]\n",
    "        name = datum[\"name\"]\n",
    "        descr = datum[\"descriptions\"]\n",
    "        cat = \", \".join(datum[\"categories\"])\n",
    "        session.write_transaction(create_drugs, drug, name, descr, cat)\n",
    "print(\"----Done----\")    "
   ]
  },
  {
   "cell_type": "markdown",
   "metadata": {},
   "source": [
    "#### Deploying Protein Nodes:"
   ]
  },
  {
   "cell_type": "code",
   "execution_count": 70,
   "metadata": {},
   "outputs": [],
   "source": [
    "def create_proteins(tx, unid, name):\n",
    "    query = (\"\"\"\n",
    "            MERGE (p:Protein{id: $unid})\n",
    "            ON CREATE SET p.name = $name, p.t_type = 'target'\n",
    "            ON MATCH SET p.name = $name\n",
    "            \"\"\")\n",
    "    return tx.run(query, unid = unid, name = name)"
   ]
  },
  {
   "cell_type": "code",
   "execution_count": 71,
   "metadata": {},
   "outputs": [
    {
     "name": "stderr",
     "output_type": "stream",
     "text": [
      "Deploying Target Proteins: 100%|██████████| 322/322 [00:02<00:00, 124.51it/s]"
     ]
    },
    {
     "name": "stdout",
     "output_type": "stream",
     "text": [
      "----Done----\n"
     ]
    },
    {
     "name": "stderr",
     "output_type": "stream",
     "text": [
      "\n"
     ]
    }
   ],
   "source": [
    "with driver.session() as session:\n",
    "    for datum in tqdm(file, desc = \"Deploying Target Proteins: \"):\n",
    "        for targets in datum[\"targets\"]:\n",
    "            unid = targets[\"uniprot_id\"]\n",
    "            name = targets[\"name\"]\n",
    "            session.write_transaction(create_proteins, unid, name)\n",
    "print(\"----Done----\")    "
   ]
  },
  {
   "cell_type": "markdown",
   "metadata": {},
   "source": [
    "#### Matching Drugs with Drug Targets:"
   ]
  },
  {
   "cell_type": "code",
   "execution_count": 72,
   "metadata": {},
   "outputs": [],
   "source": [
    "def link_drug_target(tx, drug, unid):\n",
    "    query = (\"\"\"\n",
    "            MATCH (p:Protein) WHERE p.id = $unid\n",
    "            MATCH (d:Drug) WHERE d.id = $drug\n",
    "            MERGE (p)<-[:TARGET]-(d)\n",
    "            \"\"\")\n",
    "    return tx.run(query, drug = drug, unid = unid)"
   ]
  },
  {
   "cell_type": "code",
   "execution_count": 73,
   "metadata": {},
   "outputs": [
    {
     "name": "stderr",
     "output_type": "stream",
     "text": [
      "Creating Relationships : 100%|██████████| 322/322 [00:02<00:00, 108.00it/s]"
     ]
    },
    {
     "name": "stdout",
     "output_type": "stream",
     "text": [
      "----Done----\n"
     ]
    },
    {
     "name": "stderr",
     "output_type": "stream",
     "text": [
      "\n"
     ]
    }
   ],
   "source": [
    "with driver.session() as session:\n",
    "    for datum in tqdm(file, desc = \"Creating Relationships \"):\n",
    "        drug = datum[\"drugbank_id\"]\n",
    "        for targets in datum[\"targets\"]:\n",
    "            unid = targets[\"uniprot_id\"]\n",
    "            session.write_transaction(link_drug_target, drug, unid)\n",
    "print(\"----Done----\")    "
   ]
  },
  {
   "cell_type": "markdown",
   "metadata": {},
   "source": [
    "#### Matching Drug Targets with Pathways (NOTE: ~10 minute runtime)"
   ]
  },
  {
   "cell_type": "code",
   "execution_count": 74,
   "metadata": {},
   "outputs": [],
   "source": [
    "def extract_pathway(unid) -> list:\n",
    "    \"\"\"\n",
    "    grabs all reactome pathways associated with protein\n",
    "    @param id is the uniprot id that is going to be grabbed\n",
    "    @return is a list with all of the reactome pathways\n",
    "    \"\"\"\n",
    "    #get the url\n",
    "    url = 'https://www.uniprot.org/uniprot/' + unid + '.txt'\n",
    "\n",
    "    #check the response\n",
    "    response = requests.get(url=url)\n",
    "\n",
    "    #if successful\n",
    "    if response.status_code == 200:\n",
    "        pathway_list = []\n",
    "        #new line delimiter\n",
    "        response = response.text.splitlines()\n",
    "        #searcg for pathways\n",
    "        for i in range(len(response)):\n",
    "            #if found\n",
    "            if 'Reactome;' in response[i]:\n",
    "                #process string\n",
    "                pathway = response[i]\n",
    "                pathway = str(pathway.split()[2][:-1])\n",
    "                pathway_list.append(pathway)\n",
    "        return pathway_list\n",
    "\n",
    "    #if not successful\n",
    "    else:\n",
    "        #get error\n",
    "        print('Error, Status Code:' % response.status_code)"
   ]
  },
  {
   "cell_type": "code",
   "execution_count": 75,
   "metadata": {},
   "outputs": [],
   "source": [
    "def deploy_pathways(tx, pathway):\n",
    "    query = (\"\"\"\n",
    "            MERGE (r:Pathway{id: $pathway})\n",
    "            \"\"\")\n",
    "    return tx.run(query, pathway = pathway)\n",
    "\n",
    "def link_pathways(tx, unid, pathway):\n",
    "    query = (\"\"\"\n",
    "            MATCH (p:Protein) WHERE p.id = $unid\n",
    "            MATCH (r:Pathway) WHERE r.id = $pathway\n",
    "            MERGE (p)<-[:CANDIDATE]-(r)\n",
    "            \"\"\")\n",
    "    return tx.run(query, unid = unid, pathway = pathway)"
   ]
  },
  {
   "cell_type": "code",
   "execution_count": null,
   "metadata": {},
   "outputs": [],
   "source": [
    "print(\"NOTE: ~10 minute runtime\")\n",
    "with driver.session() as session:\n",
    "    for datum in tqdm(file, desc = \"Linking Pathways: \"):\n",
    "        for targets in datum[\"targets\"]:\n",
    "            unid = targets[\"uniprot_id\"]\n",
    "            pathways = extract_pathway(unid)\n",
    "            for p in pathways:\n",
    "                session.write_transaction(deploy_pathways, p)\n",
    "                session.write_transaction(link_pathways, unid, p)\n",
    "print(\"----Done----\")    "
   ]
  }
 ],
 "metadata": {
  "interpreter": {
   "hash": "8809f22efc4d4833c698fd91f1fd6f86b56be1233d42d848c99ff08366adcbfa"
  },
  "kernelspec": {
   "display_name": "Python 3.8.8 64-bit ('base': conda)",
   "language": "python",
   "name": "python3"
  },
  "language_info": {
   "codemirror_mode": {
    "name": "ipython",
    "version": 3
   },
   "file_extension": ".py",
   "mimetype": "text/x-python",
   "name": "python",
   "nbconvert_exporter": "python",
   "pygments_lexer": "ipython3",
   "version": "3.8.8"
  },
  "orig_nbformat": 4
 },
 "nbformat": 4,
 "nbformat_minor": 2
}
